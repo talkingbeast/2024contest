{
 "cells": [
  {
   "cell_type": "code",
   "execution_count": 19,
   "id": "c5e11b09-0586-4114-9508-a8ead2a7c212",
   "metadata": {},
   "outputs": [],
   "source": [
    "import streamlit as st\n",
    "import pandas as pd\n",
    "import plotly.graph_objs as go\n",
    "import os\n",
    "from datetime import datetime"
   ]
  },
  {
   "cell_type": "code",
   "execution_count": 11,
   "id": "2fc5de61-79c3-464c-b6fa-3e81a4d257c7",
   "metadata": {},
   "outputs": [],
   "source": [
    "def read_all_xlsx_files(folder_path):\n",
    "    # 获取文件夹下所有的文件名\n",
    "    all_files = os.listdir(folder_path)\n",
    "    \n",
    "    # 过滤出所有的xlsx文件\n",
    "    xlsx_files = [file for file in all_files if file.endswith('.xlsx')]\n",
    "    \n",
    "    # 用于存储每个xlsx文件内容和文件名的字典数组\n",
    "    data_frames = []\n",
    "    \n",
    "    # 遍历每个xlsx文件，读取内容并存储到字典数组中\n",
    "    for file in xlsx_files:\n",
    "        file_path = os.path.join(folder_path, file)\n",
    "        df = pd.read_excel(file_path)\n",
    "        data_frames.append({'file_name': file, 'df': df})\n",
    "    \n",
    "    return data_frames"
   ]
  },
  {
   "cell_type": "code",
   "execution_count": 12,
   "id": "5670ec80-f7c5-4b3b-b41a-91cc68b612e7",
   "metadata": {},
   "outputs": [],
   "source": [
    "folder_path = r'数据包\\2024年6月七彩集团各所属公司审计整改台账'  # 替换成你的文件夹路径\n",
    "data_frames = read_all_xlsx_files(folder_path)"
   ]
  },
  {
   "cell_type": "code",
   "execution_count": 13,
   "id": "f0cd4224-7ee1-4b8e-836d-054727bced21",
   "metadata": {},
   "outputs": [
    {
     "data": {
      "text/plain": [
       "'2024年6月七彩集团各所属公司审计整改台账'"
      ]
     },
     "execution_count": 13,
     "metadata": {},
     "output_type": "execute_result"
    }
   ],
   "source": [
    "folder_name = folder_path.split('\\\\')[-1]"
   ]
  },
  {
   "cell_type": "code",
   "execution_count": 20,
   "id": "c657ee4b-1996-44a0-970d-b23efd0615f3",
   "metadata": {},
   "outputs": [
    {
     "name": "stdout",
     "output_type": "stream",
     "text": [
      "文件已保存为 集团整体审计整改台账_20240723221345.xlsx\n"
     ]
    }
   ],
   "source": [
    "# 示例使用\n",
    "folder_path = r'数据包\\2024年6月七彩集团各所属公司审计整改台账'  # 替换成你的文件夹路径\n",
    "data_frames = read_all_xlsx_files(folder_path)\n",
    "\n",
    "# 获取当前的日期和时间\n",
    "current_time = datetime.now().strftime('%Y%m%d%H%M%S')\n",
    "\n",
    "# 创建带有日期时间的文件名\n",
    "output_file = f'集团整体审计整改台账_{current_time}.xlsx'\n",
    "\n",
    "# 使用 ExcelWriter 保存文件\n",
    "with pd.ExcelWriter(output_file) as writer:\n",
    "    for item in data_frames:\n",
    "        item['df'].to_excel(writer, sheet_name=item['file_name'][:31])  # sheet_name 最长31字符\n",
    "\n",
    "print(f'文件已保存为 {output_file}')"
   ]
  }
 ],
 "metadata": {
  "kernelspec": {
   "display_name": "Python 3 (ipykernel)",
   "language": "python",
   "name": "python3"
  },
  "language_info": {
   "codemirror_mode": {
    "name": "ipython",
    "version": 3
   },
   "file_extension": ".py",
   "mimetype": "text/x-python",
   "name": "python",
   "nbconvert_exporter": "python",
   "pygments_lexer": "ipython3",
   "version": "3.12.2"
  }
 },
 "nbformat": 4,
 "nbformat_minor": 5
}
